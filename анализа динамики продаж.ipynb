{
 "cells": [
  {
   "cell_type": "code",
   "execution_count": 1,
   "metadata": {},
   "outputs": [],
   "source": [
    "import pandas as pd"
   ]
  },
  {
   "cell_type": "markdown",
   "metadata": {},
   "source": [
    "Download dataframe"
   ]
  },
  {
   "cell_type": "code",
   "execution_count": 34,
   "metadata": {},
   "outputs": [],
   "source": [
    "df = pd.read_csv('data/data1.csv', encoding='1251')"
   ]
  },
  {
   "cell_type": "code",
   "execution_count": 4,
   "metadata": {},
   "outputs": [],
   "source": [
    "pd.set_option('display.max_columns', 40)\n",
    "pd.set_option('display.float_format', '{:.2f}'.format)"
   ]
  },
  {
   "cell_type": "markdown",
   "metadata": {},
   "source": [
    "Assess the structure"
   ]
  },
  {
   "cell_type": "code",
   "execution_count": 5,
   "metadata": {},
   "outputs": [
    {
     "data": {
      "text/html": [
       "<div>\n",
       "<style scoped>\n",
       "    .dataframe tbody tr th:only-of-type {\n",
       "        vertical-align: middle;\n",
       "    }\n",
       "\n",
       "    .dataframe tbody tr th {\n",
       "        vertical-align: top;\n",
       "    }\n",
       "\n",
       "    .dataframe thead th {\n",
       "        text-align: right;\n",
       "    }\n",
       "</style>\n",
       "<table border=\"1\" class=\"dataframe\">\n",
       "  <thead>\n",
       "    <tr style=\"text-align: right;\">\n",
       "      <th></th>\n",
       "      <th>DR_Dat</th>\n",
       "      <th>DR_Tim</th>\n",
       "      <th>DR_NChk</th>\n",
       "      <th>DR_NDoc</th>\n",
       "      <th>DR_Apt</th>\n",
       "      <th>DR_Kkm</th>\n",
       "      <th>DR_TDoc</th>\n",
       "      <th>DR_TPay</th>\n",
       "      <th>DR_CDrugs</th>\n",
       "      <th>DR_NDrugs</th>\n",
       "      <th>DR_Suppl</th>\n",
       "      <th>DR_Prod</th>\n",
       "      <th>DR_Kol</th>\n",
       "      <th>DR_CZak</th>\n",
       "      <th>DR_CRoz</th>\n",
       "      <th>DR_SDisc</th>\n",
       "      <th>DR_CDisc</th>\n",
       "      <th>DR_BCDisc</th>\n",
       "      <th>DR_TabEmpl</th>\n",
       "      <th>DR_VZak</th>\n",
       "      <th>DR_Pos</th>\n",
       "    </tr>\n",
       "  </thead>\n",
       "  <tbody>\n",
       "    <tr>\n",
       "      <th>0</th>\n",
       "      <td>2022-08-01</td>\n",
       "      <td>08:06:18</td>\n",
       "      <td>1272</td>\n",
       "      <td>13002561</td>\n",
       "      <td>13</td>\n",
       "      <td>22589</td>\n",
       "      <td>Розничная реализация</td>\n",
       "      <td>18</td>\n",
       "      <td>144734</td>\n",
       "      <td>ГАСТАЛ №12 ТАБ. Д/РАСС.</td>\n",
       "      <td>Пульс</td>\n",
       "      <td>TEVA Pharvaceutical Industries Ltd</td>\n",
       "      <td>1.00</td>\n",
       "      <td>196.71</td>\n",
       "      <td>270.00</td>\n",
       "      <td>0.00</td>\n",
       "      <td>NaN</td>\n",
       "      <td>NaN</td>\n",
       "      <td>29</td>\n",
       "      <td>1</td>\n",
       "      <td>1.00</td>\n",
       "    </tr>\n",
       "    <tr>\n",
       "      <th>1</th>\n",
       "      <td>2022-08-01</td>\n",
       "      <td>08:38:53</td>\n",
       "      <td>1273</td>\n",
       "      <td>13002561</td>\n",
       "      <td>13</td>\n",
       "      <td>22589</td>\n",
       "      <td>Розничная реализация</td>\n",
       "      <td>15</td>\n",
       "      <td>69661</td>\n",
       "      <td>ТОБРОПТ 0,3% 5МЛ. №1 ГЛ.КАПЛИ ФЛ./КАП. /РОМФАРМ/</td>\n",
       "      <td>Пульс</td>\n",
       "      <td>РОМФАРМ КОМПАНИ ( ROMPHARM )</td>\n",
       "      <td>1.00</td>\n",
       "      <td>106.21</td>\n",
       "      <td>127.00</td>\n",
       "      <td>6.00</td>\n",
       "      <td>9.00</td>\n",
       "      <td>200010004357.00</td>\n",
       "      <td>29</td>\n",
       "      <td>1</td>\n",
       "      <td>1.00</td>\n",
       "    </tr>\n",
       "    <tr>\n",
       "      <th>2</th>\n",
       "      <td>2022-08-01</td>\n",
       "      <td>08:55:38</td>\n",
       "      <td>1274</td>\n",
       "      <td>13002561</td>\n",
       "      <td>13</td>\n",
       "      <td>22589</td>\n",
       "      <td>Розничная реализация</td>\n",
       "      <td>18</td>\n",
       "      <td>190635</td>\n",
       "      <td>ЭЛИКВИС 5МГ. №60 ТАБ. П/П/О /ПФАЙЗЕР/БРИСТОЛ-М...</td>\n",
       "      <td>ГРАНД КАПИТАЛ СМОЛЕНСК ООО ФК</td>\n",
       "      <td>Пфайзер</td>\n",
       "      <td>1.00</td>\n",
       "      <td>2320.99</td>\n",
       "      <td>2563.00</td>\n",
       "      <td>76.00</td>\n",
       "      <td>9.00</td>\n",
       "      <td>200010018491.00</td>\n",
       "      <td>29</td>\n",
       "      <td>1</td>\n",
       "      <td>1.00</td>\n",
       "    </tr>\n",
       "    <tr>\n",
       "      <th>3</th>\n",
       "      <td>2022-08-01</td>\n",
       "      <td>09:00:40</td>\n",
       "      <td>1275</td>\n",
       "      <td>13002561</td>\n",
       "      <td>13</td>\n",
       "      <td>22589</td>\n",
       "      <td>Розничная реализация</td>\n",
       "      <td>18</td>\n",
       "      <td>276370</td>\n",
       "      <td>АРБИДОЛ МАКСИМУМ 200МГ. №10 КАПС. /ОТИСИФАРМ/Ф...</td>\n",
       "      <td>Пульс</td>\n",
       "      <td>ОТИСИФАРМ ПАО</td>\n",
       "      <td>1.00</td>\n",
       "      <td>445.39</td>\n",
       "      <td>541.00</td>\n",
       "      <td>0.00</td>\n",
       "      <td>NaN</td>\n",
       "      <td>NaN</td>\n",
       "      <td>29</td>\n",
       "      <td>1</td>\n",
       "      <td>1.00</td>\n",
       "    </tr>\n",
       "    <tr>\n",
       "      <th>4</th>\n",
       "      <td>2022-08-01</td>\n",
       "      <td>09:04:05</td>\n",
       "      <td>1276</td>\n",
       "      <td>13002561</td>\n",
       "      <td>13</td>\n",
       "      <td>22589</td>\n",
       "      <td>Розничная реализация</td>\n",
       "      <td>15</td>\n",
       "      <td>2303</td>\n",
       "      <td>ЭНАМ 2,5МГ. №20 ТАБ. /Д-Р РЕДДИ/</td>\n",
       "      <td>Протек</td>\n",
       "      <td>Д-р Редди с Лабораторис Лтд / Dr.REDDY's</td>\n",
       "      <td>1.00</td>\n",
       "      <td>18.04</td>\n",
       "      <td>22.00</td>\n",
       "      <td>1.00</td>\n",
       "      <td>9.00</td>\n",
       "      <td>200010000734.00</td>\n",
       "      <td>29</td>\n",
       "      <td>1</td>\n",
       "      <td>5.00</td>\n",
       "    </tr>\n",
       "  </tbody>\n",
       "</table>\n",
       "</div>"
      ],
      "text/plain": [
       "       DR_Dat    DR_Tim  DR_NChk   DR_NDoc  DR_Apt  DR_Kkm  \\\n",
       "0  2022-08-01  08:06:18     1272  13002561      13   22589   \n",
       "1  2022-08-01  08:38:53     1273  13002561      13   22589   \n",
       "2  2022-08-01  08:55:38     1274  13002561      13   22589   \n",
       "3  2022-08-01  09:00:40     1275  13002561      13   22589   \n",
       "4  2022-08-01  09:04:05     1276  13002561      13   22589   \n",
       "\n",
       "                DR_TDoc  DR_TPay  DR_CDrugs  \\\n",
       "0  Розничная реализация       18     144734   \n",
       "1  Розничная реализация       15      69661   \n",
       "2  Розничная реализация       18     190635   \n",
       "3  Розничная реализация       18     276370   \n",
       "4  Розничная реализация       15       2303   \n",
       "\n",
       "                                           DR_NDrugs  \\\n",
       "0                            ГАСТАЛ №12 ТАБ. Д/РАСС.   \n",
       "1   ТОБРОПТ 0,3% 5МЛ. №1 ГЛ.КАПЛИ ФЛ./КАП. /РОМФАРМ/   \n",
       "2  ЭЛИКВИС 5МГ. №60 ТАБ. П/П/О /ПФАЙЗЕР/БРИСТОЛ-М...   \n",
       "3  АРБИДОЛ МАКСИМУМ 200МГ. №10 КАПС. /ОТИСИФАРМ/Ф...   \n",
       "4                   ЭНАМ 2,5МГ. №20 ТАБ. /Д-Р РЕДДИ/   \n",
       "\n",
       "                        DR_Suppl                                   DR_Prod  \\\n",
       "0                          Пульс        TEVA Pharvaceutical Industries Ltd   \n",
       "1                          Пульс              РОМФАРМ КОМПАНИ ( ROMPHARM )   \n",
       "2  ГРАНД КАПИТАЛ СМОЛЕНСК ООО ФК                                   Пфайзер   \n",
       "3                          Пульс                             ОТИСИФАРМ ПАО   \n",
       "4                         Протек  Д-р Редди с Лабораторис Лтд / Dr.REDDY's   \n",
       "\n",
       "   DR_Kol  DR_CZak  DR_CRoz  DR_SDisc  DR_CDisc       DR_BCDisc  DR_TabEmpl  \\\n",
       "0    1.00   196.71   270.00      0.00       NaN             NaN          29   \n",
       "1    1.00   106.21   127.00      6.00      9.00 200010004357.00          29   \n",
       "2    1.00  2320.99  2563.00     76.00      9.00 200010018491.00          29   \n",
       "3    1.00   445.39   541.00      0.00       NaN             NaN          29   \n",
       "4    1.00    18.04    22.00      1.00      9.00 200010000734.00          29   \n",
       "\n",
       "   DR_VZak  DR_Pos  \n",
       "0        1    1.00  \n",
       "1        1    1.00  \n",
       "2        1    1.00  \n",
       "3        1    1.00  \n",
       "4        1    5.00  "
      ]
     },
     "execution_count": 5,
     "metadata": {},
     "output_type": "execute_result"
    }
   ],
   "source": [
    "df.head()"
   ]
  },
  {
   "cell_type": "code",
   "execution_count": 6,
   "metadata": {},
   "outputs": [
    {
     "data": {
      "text/plain": [
       "array(['2022-08-01', '2022-08-02', '2022-08-03', '2022-08-04',\n",
       "       '2022-08-05'], dtype=object)"
      ]
     },
     "execution_count": 6,
     "metadata": {},
     "output_type": "execute_result"
    }
   ],
   "source": [
    "df['DR_Dat'].unique()"
   ]
  },
  {
   "cell_type": "code",
   "execution_count": 7,
   "metadata": {},
   "outputs": [
    {
     "data": {
      "text/plain": [
       "array([13], dtype=int64)"
      ]
     },
     "execution_count": 7,
     "metadata": {},
     "output_type": "execute_result"
    }
   ],
   "source": [
    "df['DR_Apt'].unique()"
   ]
  },
  {
   "cell_type": "markdown",
   "metadata": {},
   "source": [
    "Count sum of sales for each period (in this case day)\n"
   ]
  },
  {
   "cell_type": "code",
   "execution_count": 36,
   "metadata": {},
   "outputs": [],
   "source": [
    "df = df.groupby('DR_Dat').apply(lambda x: pd.Series({'revenue': sum(x['DR_Kol'] * x['DR_CRoz'] - x['DR_SDisc'])})).reset_index()"
   ]
  },
  {
   "cell_type": "code",
   "execution_count": 40,
   "metadata": {},
   "outputs": [
    {
     "data": {
      "text/html": [
       "<div>\n",
       "<style scoped>\n",
       "    .dataframe tbody tr th:only-of-type {\n",
       "        vertical-align: middle;\n",
       "    }\n",
       "\n",
       "    .dataframe tbody tr th {\n",
       "        vertical-align: top;\n",
       "    }\n",
       "\n",
       "    .dataframe thead th {\n",
       "        text-align: right;\n",
       "    }\n",
       "</style>\n",
       "<table border=\"1\" class=\"dataframe\">\n",
       "  <thead>\n",
       "    <tr style=\"text-align: right;\">\n",
       "      <th></th>\n",
       "      <th>DR_Dat</th>\n",
       "      <th>revenue</th>\n",
       "      <th>revenue_d</th>\n",
       "    </tr>\n",
       "  </thead>\n",
       "  <tbody>\n",
       "    <tr>\n",
       "      <th>0</th>\n",
       "      <td>2022-08-01</td>\n",
       "      <td>84681.52</td>\n",
       "      <td>NaN</td>\n",
       "    </tr>\n",
       "    <tr>\n",
       "      <th>1</th>\n",
       "      <td>2022-08-02</td>\n",
       "      <td>71389.37</td>\n",
       "      <td>-0.16</td>\n",
       "    </tr>\n",
       "    <tr>\n",
       "      <th>2</th>\n",
       "      <td>2022-08-03</td>\n",
       "      <td>78050.82</td>\n",
       "      <td>0.09</td>\n",
       "    </tr>\n",
       "    <tr>\n",
       "      <th>3</th>\n",
       "      <td>2022-08-04</td>\n",
       "      <td>59187.36</td>\n",
       "      <td>-0.24</td>\n",
       "    </tr>\n",
       "    <tr>\n",
       "      <th>4</th>\n",
       "      <td>2022-08-05</td>\n",
       "      <td>56458.81</td>\n",
       "      <td>-0.05</td>\n",
       "    </tr>\n",
       "  </tbody>\n",
       "</table>\n",
       "</div>"
      ],
      "text/plain": [
       "       DR_Dat  revenue  revenue_d\n",
       "0  2022-08-01 84681.52        NaN\n",
       "1  2022-08-02 71389.37      -0.16\n",
       "2  2022-08-03 78050.82       0.09\n",
       "3  2022-08-04 59187.36      -0.24\n",
       "4  2022-08-05 56458.81      -0.05"
      ]
     },
     "execution_count": 40,
     "metadata": {},
     "output_type": "execute_result"
    }
   ],
   "source": [
    "df"
   ]
  },
  {
   "cell_type": "markdown",
   "metadata": {},
   "source": [
    "Count dynamics with the help of \"rolling\""
   ]
  },
  {
   "cell_type": "code",
   "execution_count": 39,
   "metadata": {},
   "outputs": [],
   "source": [
    "df ['revenue_d']=df['revenue'].rolling(2).apply(lambda x: (x.iloc[1]-x.iloc[0])/x.iloc[0])\n"
   ]
  },
  {
   "cell_type": "markdown",
   "metadata": {},
   "source": [
    "Another way to count dynamics using \"shift\""
   ]
  },
  {
   "cell_type": "code",
   "execution_count": 42,
   "metadata": {},
   "outputs": [],
   "source": [
    "df['revenue_shifted']=df['revenue'].shift(1)"
   ]
  },
  {
   "cell_type": "code",
   "execution_count": 46,
   "metadata": {},
   "outputs": [
    {
     "data": {
      "text/html": [
       "<div>\n",
       "<style scoped>\n",
       "    .dataframe tbody tr th:only-of-type {\n",
       "        vertical-align: middle;\n",
       "    }\n",
       "\n",
       "    .dataframe tbody tr th {\n",
       "        vertical-align: top;\n",
       "    }\n",
       "\n",
       "    .dataframe thead th {\n",
       "        text-align: right;\n",
       "    }\n",
       "</style>\n",
       "<table border=\"1\" class=\"dataframe\">\n",
       "  <thead>\n",
       "    <tr style=\"text-align: right;\">\n",
       "      <th></th>\n",
       "      <th>DR_Dat</th>\n",
       "      <th>revenue</th>\n",
       "      <th>revenue_d</th>\n",
       "      <th>revenue_shifted</th>\n",
       "      <th>revenue_d2</th>\n",
       "    </tr>\n",
       "  </thead>\n",
       "  <tbody>\n",
       "    <tr>\n",
       "      <th>0</th>\n",
       "      <td>2022-08-01</td>\n",
       "      <td>84681.52</td>\n",
       "      <td>NaN</td>\n",
       "      <td>NaN</td>\n",
       "      <td>NaN</td>\n",
       "    </tr>\n",
       "    <tr>\n",
       "      <th>1</th>\n",
       "      <td>2022-08-02</td>\n",
       "      <td>71389.37</td>\n",
       "      <td>-0.16</td>\n",
       "      <td>84681.52</td>\n",
       "      <td>-0.16</td>\n",
       "    </tr>\n",
       "    <tr>\n",
       "      <th>2</th>\n",
       "      <td>2022-08-03</td>\n",
       "      <td>78050.82</td>\n",
       "      <td>0.09</td>\n",
       "      <td>71389.37</td>\n",
       "      <td>0.09</td>\n",
       "    </tr>\n",
       "    <tr>\n",
       "      <th>3</th>\n",
       "      <td>2022-08-04</td>\n",
       "      <td>59187.36</td>\n",
       "      <td>-0.24</td>\n",
       "      <td>78050.82</td>\n",
       "      <td>-0.24</td>\n",
       "    </tr>\n",
       "    <tr>\n",
       "      <th>4</th>\n",
       "      <td>2022-08-05</td>\n",
       "      <td>56458.81</td>\n",
       "      <td>-0.05</td>\n",
       "      <td>59187.36</td>\n",
       "      <td>-0.05</td>\n",
       "    </tr>\n",
       "  </tbody>\n",
       "</table>\n",
       "</div>"
      ],
      "text/plain": [
       "       DR_Dat  revenue  revenue_d  revenue_shifted  revenue_d2\n",
       "0  2022-08-01 84681.52        NaN              NaN         NaN\n",
       "1  2022-08-02 71389.37      -0.16         84681.52       -0.16\n",
       "2  2022-08-03 78050.82       0.09         71389.37        0.09\n",
       "3  2022-08-04 59187.36      -0.24         78050.82       -0.24\n",
       "4  2022-08-05 56458.81      -0.05         59187.36       -0.05"
      ]
     },
     "execution_count": 46,
     "metadata": {},
     "output_type": "execute_result"
    }
   ],
   "source": [
    "df['revenue_d2'] = (df['revenue']-df['revenue_shifted'])/df['revenue_shifted']\n",
    "df"
   ]
  },
  {
   "cell_type": "markdown",
   "metadata": {},
   "source": [
    "One more way to count dynamics using \"pct_change\""
   ]
  },
  {
   "cell_type": "code",
   "execution_count": 47,
   "metadata": {},
   "outputs": [
    {
     "data": {
      "text/html": [
       "<div>\n",
       "<style scoped>\n",
       "    .dataframe tbody tr th:only-of-type {\n",
       "        vertical-align: middle;\n",
       "    }\n",
       "\n",
       "    .dataframe tbody tr th {\n",
       "        vertical-align: top;\n",
       "    }\n",
       "\n",
       "    .dataframe thead th {\n",
       "        text-align: right;\n",
       "    }\n",
       "</style>\n",
       "<table border=\"1\" class=\"dataframe\">\n",
       "  <thead>\n",
       "    <tr style=\"text-align: right;\">\n",
       "      <th></th>\n",
       "      <th>DR_Dat</th>\n",
       "      <th>revenue</th>\n",
       "      <th>revenue_d</th>\n",
       "      <th>revenue_shifted</th>\n",
       "      <th>revenue_d2</th>\n",
       "      <th>revenue_d3</th>\n",
       "    </tr>\n",
       "  </thead>\n",
       "  <tbody>\n",
       "    <tr>\n",
       "      <th>0</th>\n",
       "      <td>2022-08-01</td>\n",
       "      <td>84681.52</td>\n",
       "      <td>NaN</td>\n",
       "      <td>NaN</td>\n",
       "      <td>NaN</td>\n",
       "      <td>NaN</td>\n",
       "    </tr>\n",
       "    <tr>\n",
       "      <th>1</th>\n",
       "      <td>2022-08-02</td>\n",
       "      <td>71389.37</td>\n",
       "      <td>-0.16</td>\n",
       "      <td>84681.52</td>\n",
       "      <td>-0.16</td>\n",
       "      <td>-0.16</td>\n",
       "    </tr>\n",
       "    <tr>\n",
       "      <th>2</th>\n",
       "      <td>2022-08-03</td>\n",
       "      <td>78050.82</td>\n",
       "      <td>0.09</td>\n",
       "      <td>71389.37</td>\n",
       "      <td>0.09</td>\n",
       "      <td>0.09</td>\n",
       "    </tr>\n",
       "    <tr>\n",
       "      <th>3</th>\n",
       "      <td>2022-08-04</td>\n",
       "      <td>59187.36</td>\n",
       "      <td>-0.24</td>\n",
       "      <td>78050.82</td>\n",
       "      <td>-0.24</td>\n",
       "      <td>-0.24</td>\n",
       "    </tr>\n",
       "    <tr>\n",
       "      <th>4</th>\n",
       "      <td>2022-08-05</td>\n",
       "      <td>56458.81</td>\n",
       "      <td>-0.05</td>\n",
       "      <td>59187.36</td>\n",
       "      <td>-0.05</td>\n",
       "      <td>-0.05</td>\n",
       "    </tr>\n",
       "  </tbody>\n",
       "</table>\n",
       "</div>"
      ],
      "text/plain": [
       "       DR_Dat  revenue  revenue_d  revenue_shifted  revenue_d2  revenue_d3\n",
       "0  2022-08-01 84681.52        NaN              NaN         NaN         NaN\n",
       "1  2022-08-02 71389.37      -0.16         84681.52       -0.16       -0.16\n",
       "2  2022-08-03 78050.82       0.09         71389.37        0.09        0.09\n",
       "3  2022-08-04 59187.36      -0.24         78050.82       -0.24       -0.24\n",
       "4  2022-08-05 56458.81      -0.05         59187.36       -0.05       -0.05"
      ]
     },
     "execution_count": 47,
     "metadata": {},
     "output_type": "execute_result"
    }
   ],
   "source": [
    "df['revenue_d3']= df['revenue'].pct_change(1)\n",
    "df"
   ]
  },
  {
   "cell_type": "code",
   "execution_count": null,
   "metadata": {},
   "outputs": [],
   "source": []
  }
 ],
 "metadata": {
  "kernelspec": {
   "display_name": "venv",
   "language": "python",
   "name": "python3"
  },
  "language_info": {
   "codemirror_mode": {
    "name": "ipython",
    "version": 3
   },
   "file_extension": ".py",
   "mimetype": "text/x-python",
   "name": "python",
   "nbconvert_exporter": "python",
   "pygments_lexer": "ipython3",
   "version": "3.8.10"
  }
 },
 "nbformat": 4,
 "nbformat_minor": 2
}
